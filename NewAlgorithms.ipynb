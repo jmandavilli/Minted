{
 "cells": [
  {
   "cell_type": "code",
   "execution_count": 1,
   "metadata": {},
   "outputs": [],
   "source": [
    "import numpy as np\n",
    "import matplotlib.pyplot as plt"
   ]
  },
  {
   "cell_type": "code",
   "execution_count": 2,
   "metadata": {},
   "outputs": [],
   "source": [
    "train_data = np.load(\"training_data.npy\")\n",
    "train_labels = np.load(\"training_labels.npy\")\n",
    "dev_data = np.load(\"development_data.npy\")\n",
    "dev_labels = np.load(\"development_labels.npy\")"
   ]
  },
  {
   "cell_type": "code",
   "execution_count": 12,
   "metadata": {},
   "outputs": [],
   "source": [
    "a = np.ones(len(train_data[0]))\n",
    "for j in range(len(a)):\n",
    "    if j % 20 == 0:\n",
    "        a[j] = 10"
   ]
  },
  {
   "cell_type": "code",
   "execution_count": 16,
   "metadata": {},
   "outputs": [
    {
     "name": "stdout",
     "output_type": "stream",
     "text": [
      "[20. 40. 60.]\n"
     ]
    },
    {
     "data": {
      "image/png": "[encoded data removed]",
      "text/plain": [
       "<Figure size 432x288 with 1 Axes>"
      ]
     },
     "metadata": {
      "needs_background": "light"
     },
     "output_type": "display_data"
    }
   ],
   "source": [
    "# a = train_data[0]\n",
    "\n",
    "# sample = np.r_[True, a[1:] < a[:-1]] & np.r_[a[:-1] < a[1:], True]\n",
    "maxes = np.zeros(3)\n",
    "first_avail = 0\n",
    "\n",
    "plt.plot(a)\n",
    "\n",
    "t = 2\n",
    "thresh = .05 * max(a)\n",
    "\n",
    "for i in range(t, len(a) - t):\n",
    "    if ((a[i+t] - a[i]) <= thresh) and ((a[i] - a[i-t]) >= thresh) and (a[i] > min(maxes)):\n",
    "        ind = np.argmin(maxes)\n",
    "        maxes[ind] = i\n",
    "\n",
    "x = np.zeros(len(maxes))\n",
    "y = np.zeros(len(maxes))\n",
    "ind = 0\n",
    "for k in range(len(a)):\n",
    "    if k in maxes:\n",
    "        x[ind] = k\n",
    "        y[ind] = a[k]\n",
    "        ind += 1\n",
    "        \n",
    "    \n",
    "    \n",
    "    \n",
    "line = np.polyfit(x, y, 1)\n",
    "\n",
    "print(maxes)"
   ]
  }
 ],
 "metadata": {
  "kernelspec": {
   "display_name": "Python 3",
   "language": "python",
   "name": "python3"
  },
  "language_info": {
   "codemirror_mode": {
    "name": "ipython",
    "version": 3
   },
   "file_extension": ".py",
   "mimetype": "text/x-python",
   "name": "python",
   "nbconvert_exporter": "python",
   "pygments_lexer": "ipython3",
   "version": "3.6.8"
  }
 },
 "nbformat": 4,
 "nbformat_minor": 2
}
