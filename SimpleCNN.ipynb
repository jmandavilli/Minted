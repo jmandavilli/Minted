{
 "cells": [
  {
   "cell_type": "code",
   "execution_count": 57,
   "metadata": {},
   "outputs": [],
   "source": [
    "import numpy as np\n",
    "import matplotlib.pyplot as plt\n",
    "import argparse as ap\n",
    "import csv\n",
    "import torch.nn.functional as F\n",
    "import torch.nn as nn\n",
    "import torch\n",
    "import glob\n",
    "import os\n",
    "import pandas as pd\n",
    "import random\n",
    "import math"
   ]
  },
  {
   "cell_type": "code",
   "execution_count": 58,
   "metadata": {},
   "outputs": [],
   "source": [
    "# Args\n",
    "# tmd = tech, media and telecom\n",
    "# hc = healthcare\n",
    "# cr = consumer and retail\n",
    "# fig = finnancial institution groups\n",
    "# ind = industrials\n",
    "# pnr = power and natural resources\n",
    "\n",
    "\n",
    "class args:\n",
    "    sector = \"tmd\"\n",
    "    model_save = 'output.txt'\n",
    "    batch_size = 10\n",
    "    train_steps = 500\n",
    "    learning_rate = 0.1\n",
    "    classes = 2\n",
    "    cnn_n1_channels = 10 # I hope this works: 05/04/2020\n",
    "    cnn_n1_kernel = 3\n",
    "    cnn_n2_kernel = 3\n",
    "    cnn_n3_kernel = 3\n",
    "    model = 'simple-cnn'\n",
    "    log_file = 'logfile.txt'"
   ]
  },
  {
   "cell_type": "code",
   "execution_count": 62,
   "metadata": {},
   "outputs": [],
   "source": [
    "# Data Reading from raw files\n",
    "\n",
    "# retval = os.getcwd()\n",
    "# print(retval)\n",
    "def loadData():\n",
    "    path = \"/mnt/c/Minted/Data\"\n",
    "\n",
    "    path, dirs, files = next(os.walk(path))\n",
    "    num_stocks = len(files)\n",
    "    \n",
    "    print(num_stocks)\n",
    "    \n",
    "    prices = np.zeros((num_stocks, 125))\n",
    "    price_index = 4 # highs\n",
    "    iterations = 0\n",
    "    preds = np.zeros(num_stocks)\n",
    "\n",
    "\n",
    "    # os.chdir(path)\n",
    "    for file in glob.glob(\"*.csv\"): \n",
    "        i = 126\n",
    "        this_prices = np.zeros(126)\n",
    "        with open(file) as csvfile:\n",
    "            readCSV = csv.reader(csvfile, delimiter=',')\n",
    "            for row in readCSV:\n",
    "                ind = (row[price_index].find('$')) + 1\n",
    "                if i == 126:\n",
    "                    i -= 1\n",
    "                    continue\n",
    "                if i == 125:\n",
    "                    preds[iterations] = float(row[price_index][ind:])\n",
    "                    i -= 1\n",
    "                    continue\n",
    "                prices[iterations][i] = float(row[price_index][ind:])\n",
    "\n",
    "                i -= 1\n",
    "\n",
    "        iterations += 1\n",
    "\n",
    "    # print(prices.shape)\n",
    "    # print(prices)\n",
    "\n",
    "    plt.figure()\n",
    "    plt.plot(prices[0])\n",
    "    plt.title(\"AAPL\")\n",
    "\n",
    "#     plt.figure()\n",
    "#     plt.plot(prices[1])\n",
    "#     plt.title(\"AAPL\")\n",
    "\n",
    "\n",
    "\n",
    "# prices = np.transpose(prices)\n"
   ]
  },
  {
   "cell_type": "code",
   "execution_count": 63,
   "metadata": {},
   "outputs": [],
   "source": [
    "# Data Pre-Processing\n",
    "    # Averaging, getting rid of noise, etc.\n",
    "    # normalization?\n",
    "def splitData():\n",
    "    train_percent = 0.8\n",
    "    # train_num = math.ceil(0.8 * num_stocks)\n",
    "    train_num = math.floor(0.8 * num_stocks)\n",
    "    res = random.sample(range(0, num_stocks), train_num)\n",
    "\n",
    "    train_data = []\n",
    "    train_labels = []\n",
    "    dev_data = []\n",
    "    dev_labels = []\n",
    "\n",
    "    for i in range(num_stocks):\n",
    "        if i in res:\n",
    "            train_data.append(prices[i])\n",
    "            train_labels.append(preds[i])\n",
    "        else:\n",
    "            dev_data.append(prices[i])\n",
    "            dev_labels.append(preds[i])\n"
   ]
  },
  {
   "cell_type": "code",
   "execution_count": 64,
   "metadata": {},
   "outputs": [
    {
     "name": "stdout",
     "output_type": "stream",
     "text": [
      "1\n"
     ]
    },
    {
     "data": {
      "image/png": "[encoded data removed]",
      "text/plain": [
       "<Figure size 432x288 with 1 Axes>"
      ]
     },
     "metadata": {
      "needs_background": "light"
     },
     "output_type": "display_data"
    }
   ],
   "source": [
    "loaded = False\n",
    "if not loaded:\n",
    "    loadData()\n",
    "    splitData()\n",
    "    np.save(\"../training_data.npy\", train_data)\n",
    "    np.save(\"../training_labels.npy\", train_labels)\n",
    "    np.save(\"../development_data.npy\", dev_data)\n",
    "    np.save(\"../development_labels.npy\", dev_labels)"
   ]
  },
  {
   "cell_type": "code",
   "execution_count": 53,
   "metadata": {},
   "outputs": [],
   "source": [
    "train_data = np.load(\"../training_data.npy\")\n",
    "train_labels = np.load(\"../training_labels.npy\")\n",
    "dev_data = np.load(\"../development_data.npy\")\n",
    "dev_labels = np.load(\"../development_labels.npy\")"
   ]
  },
  {
   "cell_type": "code",
   "execution_count": null,
   "metadata": {},
   "outputs": [],
   "source": [
    "# Train and predict with neural net"
   ]
  },
  {
   "cell_type": "code",
   "execution_count": null,
   "metadata": {},
   "outputs": [],
   "source": [
    "class SimpleCNN(torch.nn.Module):\n",
    "    def __init__(self, n1_kern, n2_kern, n3_kern, n1_chan):\n",
    "        super(SimpleCNN, self).__init__()\n",
    "        # kernel = (n1_kern, n2_kern, n3_kern)\n",
    "        self.conv1 = torch.nn.Conv2d(1, n1_chan, kernel_size=n1_kern)\n",
    "        self.conv2 = torch.nn.Conv2d(n1_chan, 2, kernel_size=n2_kern, stride=2)\n",
    "\n",
    "    def forward(self, x):\n",
    "        size = x.size()[0]\n",
    "        x = x.view(size, 1, 512, 512)\n",
    "        Relu1 = F.relu(self.conv1(x))\n",
    "        Relu2 = F.relu(Relu1)\n",
    "        dim3 = Relu2.size()[2]\n",
    "        dim4 = Relu2.size()[3]\n",
    "        pool = nn.MaxPool2d((dim3, dim4), stride=2)\n",
    "        logits = pool(Relu2)\n",
    "        logits = logits.view(logits.size()[0], 40)\n",
    "        return logits"
   ]
  },
  {
   "cell_type": "code",
   "execution_count": null,
   "metadata": {},
   "outputs": [],
   "source": [
    "# Data Post Processing"
   ]
  },
  {
   "cell_type": "code",
   "execution_count": null,
   "metadata": {},
   "outputs": [],
   "source": [
    "# Create pattern model to use in tandem with this (probably separate notebook)\n",
    "# Final predictions"
   ]
  }
 ],
 "metadata": {
  "kernelspec": {
   "display_name": "Python 3",
   "language": "python",
   "name": "python3"
  },
  "language_info": {
   "codemirror_mode": {
    "name": "ipython",
    "version": 3
   },
   "file_extension": ".py",
   "mimetype": "text/x-python",
   "name": "python",
   "nbconvert_exporter": "python",
   "pygments_lexer": "ipython3",
   "version": "3.6.8"
  }
 },
 "nbformat": 4,
 "nbformat_minor": 2
}
